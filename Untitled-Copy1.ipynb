{
 "cells": [
  {
   "cell_type": "code",
   "execution_count": 84,
   "metadata": {},
   "outputs": [],
   "source": [
    "import numpy as np\n",
    "import matplotlib.pyplot as plt\n",
    "import pandas as pd"
   ]
  },
  {
   "cell_type": "code",
   "execution_count": 152,
   "metadata": {},
   "outputs": [
    {
     "data": {
      "text/html": [
       "<div>\n",
       "<style scoped>\n",
       "    .dataframe tbody tr th:only-of-type {\n",
       "        vertical-align: middle;\n",
       "    }\n",
       "\n",
       "    .dataframe tbody tr th {\n",
       "        vertical-align: top;\n",
       "    }\n",
       "\n",
       "    .dataframe thead th {\n",
       "        text-align: right;\n",
       "    }\n",
       "</style>\n",
       "<table border=\"1\" class=\"dataframe\">\n",
       "  <thead>\n",
       "    <tr style=\"text-align: right;\">\n",
       "      <th></th>\n",
       "      <th>Company</th>\n",
       "      <th>Inches</th>\n",
       "      <th>Cpu</th>\n",
       "      <th>Ram(in GB)</th>\n",
       "      <th>Memory(in GB)</th>\n",
       "      <th>Gpu</th>\n",
       "      <th>OpSys</th>\n",
       "      <th>Weight</th>\n",
       "      <th>Price_euros</th>\n",
       "    </tr>\n",
       "  </thead>\n",
       "  <tbody>\n",
       "    <tr>\n",
       "      <th>0</th>\n",
       "      <td>Apple</td>\n",
       "      <td>13.3</td>\n",
       "      <td>Intel Core i5 2.3GHz</td>\n",
       "      <td>8</td>\n",
       "      <td>128</td>\n",
       "      <td>Intel Iris Plus Graphics 640</td>\n",
       "      <td>macOS</td>\n",
       "      <td>1.37</td>\n",
       "      <td>1339.69</td>\n",
       "    </tr>\n",
       "    <tr>\n",
       "      <th>1</th>\n",
       "      <td>Apple</td>\n",
       "      <td>13.3</td>\n",
       "      <td>Intel Core i5 1.8GHz</td>\n",
       "      <td>8</td>\n",
       "      <td>128</td>\n",
       "      <td>Intel HD Graphics 6000</td>\n",
       "      <td>macOS</td>\n",
       "      <td>1.34</td>\n",
       "      <td>898.94</td>\n",
       "    </tr>\n",
       "    <tr>\n",
       "      <th>2</th>\n",
       "      <td>HP</td>\n",
       "      <td>15.6</td>\n",
       "      <td>Intel Core i5 7200U 2.5GHz</td>\n",
       "      <td>8</td>\n",
       "      <td>256</td>\n",
       "      <td>Intel HD Graphics 620</td>\n",
       "      <td>No OS</td>\n",
       "      <td>1.86</td>\n",
       "      <td>575.00</td>\n",
       "    </tr>\n",
       "    <tr>\n",
       "      <th>3</th>\n",
       "      <td>Apple</td>\n",
       "      <td>15.4</td>\n",
       "      <td>Intel Core i7 2.7GHz</td>\n",
       "      <td>16</td>\n",
       "      <td>512</td>\n",
       "      <td>AMD Radeon Pro 455</td>\n",
       "      <td>macOS</td>\n",
       "      <td>1.83</td>\n",
       "      <td>2537.45</td>\n",
       "    </tr>\n",
       "    <tr>\n",
       "      <th>4</th>\n",
       "      <td>Apple</td>\n",
       "      <td>13.3</td>\n",
       "      <td>Intel Core i5 3.1GHz</td>\n",
       "      <td>8</td>\n",
       "      <td>256</td>\n",
       "      <td>Intel Iris Plus Graphics 650</td>\n",
       "      <td>macOS</td>\n",
       "      <td>1.37</td>\n",
       "      <td>1803.60</td>\n",
       "    </tr>\n",
       "  </tbody>\n",
       "</table>\n",
       "</div>"
      ],
      "text/plain": [
       "  Company  Inches                         Cpu  Ram(in GB)  Memory(in GB)  \\\n",
       "0   Apple    13.3        Intel Core i5 2.3GHz           8            128   \n",
       "1   Apple    13.3        Intel Core i5 1.8GHz           8            128   \n",
       "2      HP    15.6  Intel Core i5 7200U 2.5GHz           8            256   \n",
       "3   Apple    15.4        Intel Core i7 2.7GHz          16            512   \n",
       "4   Apple    13.3        Intel Core i5 3.1GHz           8            256   \n",
       "\n",
       "                            Gpu  OpSys  Weight  Price_euros  \n",
       "0  Intel Iris Plus Graphics 640  macOS    1.37      1339.69  \n",
       "1        Intel HD Graphics 6000  macOS    1.34       898.94  \n",
       "2         Intel HD Graphics 620  No OS    1.86       575.00  \n",
       "3            AMD Radeon Pro 455  macOS    1.83      2537.45  \n",
       "4  Intel Iris Plus Graphics 650  macOS    1.37      1803.60  "
      ]
     },
     "execution_count": 152,
     "metadata": {},
     "output_type": "execute_result"
    }
   ],
   "source": [
    "dataset = pd.read_csv('laptops3.csv')\n",
    "X = dataset.iloc[:,:-1:].values\n",
    "Y = dataset.iloc[:,-1].values\n",
    "dataset.head()"
   ]
  },
  {
   "cell_type": "code",
   "execution_count": 153,
   "metadata": {},
   "outputs": [],
   "source": [
    "from sklearn.preprocessing import LabelEncoder, OneHotEncoder\n",
    "labelencoder = LabelEncoder()\n",
    "X[:, 0] = labelencoder.fit_transform(X[:, 0])\n",
    "X[:, 2] = labelencoder.fit_transform(X[:, 2])\n",
    "X[:, 5] = labelencoder.fit_transform(X[:, 5])\n",
    "X[:, 6] = labelencoder.fit_transform(X[:, 6])\n",
    "#X = X.reshape((len(X), 8))\n",
    "#onehotencoder = OneHotEncoder(categorical_features = [0,2,5,6])\n",
    "#X = onehotencoder.fit_transform(X).toarray()\n",
    "#print(X)"
   ]
  },
  {
   "cell_type": "code",
   "execution_count": 154,
   "metadata": {},
   "outputs": [
    {
     "data": {
      "text/html": [
       "<div>\n",
       "<style scoped>\n",
       "    .dataframe tbody tr th:only-of-type {\n",
       "        vertical-align: middle;\n",
       "    }\n",
       "\n",
       "    .dataframe tbody tr th {\n",
       "        vertical-align: top;\n",
       "    }\n",
       "\n",
       "    .dataframe thead th {\n",
       "        text-align: right;\n",
       "    }\n",
       "</style>\n",
       "<table border=\"1\" class=\"dataframe\">\n",
       "  <thead>\n",
       "    <tr style=\"text-align: right;\">\n",
       "      <th></th>\n",
       "      <th>0</th>\n",
       "      <th>1</th>\n",
       "      <th>2</th>\n",
       "      <th>3</th>\n",
       "      <th>4</th>\n",
       "      <th>5</th>\n",
       "      <th>6</th>\n",
       "      <th>7</th>\n",
       "    </tr>\n",
       "  </thead>\n",
       "  <tbody>\n",
       "    <tr>\n",
       "      <th>0</th>\n",
       "      <td>1</td>\n",
       "      <td>13.3</td>\n",
       "      <td>65</td>\n",
       "      <td>8</td>\n",
       "      <td>128</td>\n",
       "      <td>58</td>\n",
       "      <td>8</td>\n",
       "      <td>1.37</td>\n",
       "    </tr>\n",
       "    <tr>\n",
       "      <th>1</th>\n",
       "      <td>1</td>\n",
       "      <td>13.3</td>\n",
       "      <td>63</td>\n",
       "      <td>8</td>\n",
       "      <td>128</td>\n",
       "      <td>51</td>\n",
       "      <td>8</td>\n",
       "      <td>1.34</td>\n",
       "    </tr>\n",
       "    <tr>\n",
       "      <th>2</th>\n",
       "      <td>7</td>\n",
       "      <td>15.6</td>\n",
       "      <td>74</td>\n",
       "      <td>8</td>\n",
       "      <td>256</td>\n",
       "      <td>53</td>\n",
       "      <td>4</td>\n",
       "      <td>1.86</td>\n",
       "    </tr>\n",
       "    <tr>\n",
       "      <th>3</th>\n",
       "      <td>1</td>\n",
       "      <td>15.4</td>\n",
       "      <td>85</td>\n",
       "      <td>16</td>\n",
       "      <td>512</td>\n",
       "      <td>9</td>\n",
       "      <td>8</td>\n",
       "      <td>1.83</td>\n",
       "    </tr>\n",
       "    <tr>\n",
       "      <th>4</th>\n",
       "      <td>1</td>\n",
       "      <td>13.3</td>\n",
       "      <td>67</td>\n",
       "      <td>8</td>\n",
       "      <td>256</td>\n",
       "      <td>59</td>\n",
       "      <td>8</td>\n",
       "      <td>1.37</td>\n",
       "    </tr>\n",
       "  </tbody>\n",
       "</table>\n",
       "</div>"
      ],
      "text/plain": [
       "   0     1   2   3    4   5  6     7\n",
       "0  1  13.3  65   8  128  58  8  1.37\n",
       "1  1  13.3  63   8  128  51  8  1.34\n",
       "2  7  15.6  74   8  256  53  4  1.86\n",
       "3  1  15.4  85  16  512   9  8  1.83\n",
       "4  1  13.3  67   8  256  59  8  1.37"
      ]
     },
     "execution_count": 154,
     "metadata": {},
     "output_type": "execute_result"
    }
   ],
   "source": [
    "pd.DataFrame(X).head()"
   ]
  },
  {
   "cell_type": "code",
   "execution_count": 155,
   "metadata": {},
   "outputs": [],
   "source": [
    "#train_test split\n",
    "from sklearn.model_selection import train_test_split\n",
    "X_train, X_test, Y_train, Y_test = train_test_split(X, Y, test_size = 0.1, random_state = 0)\n"
   ]
  },
  {
   "cell_type": "code",
   "execution_count": 156,
   "metadata": {},
   "outputs": [
    {
     "data": {
      "text/plain": [
       "RandomForestRegressor(bootstrap=True, criterion='mse', max_depth=None,\n",
       "                      max_features='auto', max_leaf_nodes=None,\n",
       "                      min_impurity_decrease=0.0, min_impurity_split=None,\n",
       "                      min_samples_leaf=1, min_samples_split=2,\n",
       "                      min_weight_fraction_leaf=0.0, n_estimators=20,\n",
       "                      n_jobs=None, oob_score=False, random_state=0, verbose=0,\n",
       "                      warm_start=False)"
      ]
     },
     "execution_count": 156,
     "metadata": {},
     "output_type": "execute_result"
    }
   ],
   "source": [
    "from sklearn.ensemble import RandomForestRegressor \n",
    "# create regressor object \n",
    "regressor = RandomForestRegressor(n_estimators = 20, random_state = 0) \n",
    "regressor.fit(X_train, Y_train)"
   ]
  },
  {
   "cell_type": "code",
   "execution_count": 157,
   "metadata": {},
   "outputs": [],
   "source": [
    "Y_pred = regressor.predict(X_test)"
   ]
  },
  {
   "cell_type": "code",
   "execution_count": 158,
   "metadata": {},
   "outputs": [
    {
     "data": {
      "text/plain": [
       "0.8306343975085122"
      ]
     },
     "execution_count": 158,
     "metadata": {},
     "output_type": "execute_result"
    }
   ],
   "source": [
    "regressor.score(X_test, Y_test)"
   ]
  },
  {
   "cell_type": "code",
   "execution_count": 159,
   "metadata": {},
   "outputs": [
    {
     "data": {
      "text/plain": [
       "array([ 389.  , 2968.  , 1859.  ,  612.61, 2397.  ,  586.6 ,  400.  ,\n",
       "        459.9 , 1144.5 , 2999.  , 2089.  ,  549.  ,  199.  , 1034.  ,\n",
       "       1269.  ,  767.8 ,  498.  , 1929.  , 2099.  , 1899.  ,  324.  ,\n",
       "       2620.  ,  668.48, 1345.  ,  539.95,  737.  , 1055.  ,  649.  ,\n",
       "        805.99, 1695.  , 1285.  ,  720.32, 1672.  , 1199.  , 1891.  ,\n",
       "       1490.  , 3949.4 ,  447.  , 1339.  , 1534.  , 1379.  , 1199.  ,\n",
       "       5499.  , 1116.02, 1165.  ,  659.  , 1260.  ,  520.9 , 1010.  ,\n",
       "        398.49,  742.  , 2729.  ,  489.9 ,  663.  ,  764.  , 1039.  ,\n",
       "        318.  , 1219.24, 1149.  , 1799.  , 1419.  ,  959.  ,  799.  ,\n",
       "       2680.  , 1299.  , 1679.  ,  716.  , 1199.  , 1199.  , 1650.  ,\n",
       "        829.  , 1285.  , 1292.  ,  398.  ,  499.  , 1472.2 ,  869.  ,\n",
       "        726.  , 1189.  ,  403.5 ,  639.  , 1650.  ,  585.  , 2449.  ,\n",
       "       2226.  , 2277.  ,  339.  ,  945.  ,  599.  , 1590.  , 1513.  ,\n",
       "       1499.  ,  805.  ,  333.  , 1561.  ,  619.  , 1349.  ,  689.  ,\n",
       "       2051.  , 1499.  , 1080.  ,  579.  , 1169.  ,  898.94, 1369.  ,\n",
       "       1799.  , 1537.39,  557.37,  669.  ,  589.52, 2449.  , 1900.  ,\n",
       "       1229.  ,  347.  ,  859.  , 1629.  ,  879.  , 1364.  ,  752.  ,\n",
       "       1958.9 , 1799.  ,  459.  , 3240.  , 1046.44,  299.  ,  979.  ,\n",
       "       1150.  ,  900.  , 1129.  , 1559.  , 3055.  ])"
      ]
     },
     "execution_count": 159,
     "metadata": {},
     "output_type": "execute_result"
    }
   ],
   "source": [
    "Y_test"
   ]
  },
  {
   "cell_type": "code",
   "execution_count": 160,
   "metadata": {
    "scrolled": true
   },
   "outputs": [
    {
     "data": {
      "text/plain": [
       "array([ 381.60366667, 2156.3975    , 1815.85      ,  531.619     ,\n",
       "       1885.63375   ,  487.5535    ,  412.7       ,  390.31666667,\n",
       "        900.69416667, 2559.6185    , 1613.7       ,  747.2       ,\n",
       "        229.3395    , 1352.67      , 2255.6695    ,  941.45783333,\n",
       "        620.735     , 2030.963     , 1766.634     , 1984.5185    ,\n",
       "        376.097     , 2236.3       ,  649.2645    , 1074.8145    ,\n",
       "        791.7       ,  788.19      ,  608.8225    ,  759.845     ,\n",
       "        795.6855    , 1145.5       , 1186.375     ,  736.267     ,\n",
       "       1475.5       , 1100.889     , 2318.972     , 1487.5605    ,\n",
       "       2088.391     ,  559.925     , 1060.4495    , 1225.09      ,\n",
       "       1627.7       , 1052.0373    , 5286.9775    , 1349.5515    ,\n",
       "       1287.6       ,  550.49066667,  954.19821429,  600.3575    ,\n",
       "       1160.34      ,  405.3775    ,  798.0525    , 2456.55      ,\n",
       "        439.2795    ,  952.35383333,  761.816     , 1135.99583333,\n",
       "        353.15      , 1164.73333333, 1052.0373    , 1364.152     ,\n",
       "       1398.9265    , 1161.75      ,  786.332     , 1920.175     ,\n",
       "       1864.02133333, 1383.513     ,  445.96833333, 1327.8794    ,\n",
       "       1419.055     , 1617.5855    ,  699.8235    , 1446.25816667,\n",
       "       1576.099     ,  486.41      ,  457.03466667, 1436.80383333,\n",
       "       1061.19288889,  719.40083333, 1216.19975   ,  371.528625  ,\n",
       "        713.373     , 1770.15      ,  624.7975    , 2528.979     ,\n",
       "       1789.825     , 1349.19066667,  396.549     ,  993.06      ,\n",
       "        704.65      , 1241.57      , 1567.2       , 1752.8       ,\n",
       "        756.295     ,  375.25      , 2088.5365    ,  949.6       ,\n",
       "       1459.93      ,  622.77516667, 1615.3325    , 1752.8       ,\n",
       "        987.879     ,  500.611     , 1042.3255    , 1215.98      ,\n",
       "       1085.836     , 2047.274     , 1789.01975   ,  710.066375  ,\n",
       "        936.82825   ,  674.92225   , 2111.81      , 1378.734     ,\n",
       "       1076.976     ,  356.85      , 1117.7855    , 1248.271     ,\n",
       "        971.819     ,  962.05      , 1262.97566667, 1660.0735    ,\n",
       "       1476.201     ,  450.1042619 , 2297.4485    , 1194.6385    ,\n",
       "        363.25      ,  838.03333333, 1057.005     ,  964.52      ,\n",
       "       1315.6076    , 1399.9575    , 3224.436     ])"
      ]
     },
     "execution_count": 160,
     "metadata": {},
     "output_type": "execute_result"
    }
   ],
   "source": [
    "Y_pred"
   ]
  },
  {
   "cell_type": "code",
   "execution_count": 161,
   "metadata": {},
   "outputs": [
    {
     "name": "stdout",
     "output_type": "stream",
     "text": [
      "[00:15:16] WARNING: src/objective/regression_obj.cu:152: reg:linear is now deprecated in favor of reg:squarederror.\n"
     ]
    }
   ],
   "source": [
    "import xgboost as xgb\n",
    "xg_reg = xgb.XGBRegressor(objective ='reg:linear', colsample_bytree = 0.3, learning_rate = 0.1,\n",
    "                max_depth = 5, alpha = 10, n_estimators = 100)\n",
    "xg_reg.fit(X_train,Y_train)\n",
    "\n",
    "preds = xg_reg.predict(X_test)"
   ]
  },
  {
   "cell_type": "code",
   "execution_count": 162,
   "metadata": {},
   "outputs": [
    {
     "data": {
      "text/plain": [
       "0.8720973407554748"
      ]
     },
     "execution_count": 162,
     "metadata": {},
     "output_type": "execute_result"
    }
   ],
   "source": [
    "xg_reg.score(X_test, Y_test)"
   ]
  },
  {
   "cell_type": "code",
   "execution_count": 164,
   "metadata": {},
   "outputs": [
    {
     "data": {
      "text/plain": [
       "0.6430355855427381"
      ]
     },
     "execution_count": 164,
     "metadata": {},
     "output_type": "execute_result"
    }
   ],
   "source": [
    "from sklearn.tree import DecisionTreeRegressor as DTR\n",
    "reg3 = DTR(random_state = 0)\n",
    "reg3.fit(X_train, Y_train)\n",
    "pred3 = reg3.predict(X_test)\n",
    "reg3.score(X_test, Y_test)"
   ]
  },
  {
   "cell_type": "code",
   "execution_count": null,
   "metadata": {},
   "outputs": [],
   "source": []
  }
 ],
 "metadata": {
  "kernelspec": {
   "display_name": "Python 3",
   "language": "python",
   "name": "python3"
  },
  "language_info": {
   "codemirror_mode": {
    "name": "ipython",
    "version": 3
   },
   "file_extension": ".py",
   "mimetype": "text/x-python",
   "name": "python",
   "nbconvert_exporter": "python",
   "pygments_lexer": "ipython3",
   "version": "3.7.3"
  }
 },
 "nbformat": 4,
 "nbformat_minor": 4
}
